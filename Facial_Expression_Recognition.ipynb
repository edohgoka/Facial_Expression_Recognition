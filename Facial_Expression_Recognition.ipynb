{
 "cells": [
  {
   "cell_type": "code",
   "execution_count": 1,
   "metadata": {
    "colab": {
     "base_uri": "https://localhost:8080/"
    },
    "id": "j6osHU8c-RKW",
    "outputId": "2cc3e30a-8659-4d96-b089-1f55a50f4de6"
   },
   "outputs": [
    {
     "name": "stdout",
     "output_type": "stream",
     "text": [
      "--2021-09-10 15:07:48--  https://www.dropbox.com/s/si11cws2pyho1bp/archive.zip\n",
      "Resolving www.dropbox.com (www.dropbox.com)... 162.125.3.18, 2620:100:6030:18::a27d:5012\n",
      "Connecting to www.dropbox.com (www.dropbox.com)|162.125.3.18|:443... connected.\n",
      "HTTP request sent, awaiting response... 301 Moved Permanently\n",
      "Location: /s/raw/si11cws2pyho1bp/archive.zip [following]\n",
      "--2021-09-10 15:07:49--  https://www.dropbox.com/s/raw/si11cws2pyho1bp/archive.zip\n",
      "Reusing existing connection to www.dropbox.com:443.\n",
      "HTTP request sent, awaiting response... 302 Found\n",
      "Location: https://uc0719276ec4503aeea2bcf20e77.dl.dropboxusercontent.com/cd/0/inline/BV5ypO_rHdf_IWLY5Uyp9AfVs5MhqZdZXVwh2HFgUU5y2hbzJfZW4ZQ30ZheiUhzcjNcGdOG6zXhuDy2Q-I0qSzfQIxgZ1wz5fPN7rMT1kINhNlYmRxdCAZRYVbjNMFPrVQnjJantDL6Lxvi57lbLUa9/file# [following]\n",
      "--2021-09-10 15:07:49--  https://uc0719276ec4503aeea2bcf20e77.dl.dropboxusercontent.com/cd/0/inline/BV5ypO_rHdf_IWLY5Uyp9AfVs5MhqZdZXVwh2HFgUU5y2hbzJfZW4ZQ30ZheiUhzcjNcGdOG6zXhuDy2Q-I0qSzfQIxgZ1wz5fPN7rMT1kINhNlYmRxdCAZRYVbjNMFPrVQnjJantDL6Lxvi57lbLUa9/file\n",
      "Resolving uc0719276ec4503aeea2bcf20e77.dl.dropboxusercontent.com (uc0719276ec4503aeea2bcf20e77.dl.dropboxusercontent.com)... 162.125.3.15, 2620:100:6018:15::a27d:30f\n",
      "Connecting to uc0719276ec4503aeea2bcf20e77.dl.dropboxusercontent.com (uc0719276ec4503aeea2bcf20e77.dl.dropboxusercontent.com)|162.125.3.15|:443... connected.\n",
      "HTTP request sent, awaiting response... 302 Found\n",
      "Location: /cd/0/inline2/BV5HU0iZ15NgR-_-KU8c1urCYaZ35fDLGmwz_5YPEZW7zKz19YYeirRAUKi2ynwJWZQvax85FiJoGBtTEq869GBJnE0ouIGHhRy_vtMkURlpMtkoaRRT-_VYyzs5-5ukOGxg2bCvcm_VBPOWFCBJZV4ZrsQ-IiE5SK4Gi2WFNlO4JdaLI-MHiJB7fYRm7IVdEEO4Dg4u8ZDwH0CRvSEmXImI1yi0Er5wNJ-MuDLWZDcbVQt9RiLn8uFjccHcVzhHnCvQ_wIWCq50olM25dn6yURSdrnZh5oKn8d2CDGI3oRVEA_a9fAQ8Ei4DGEuPyl9zlKK__HanW9gKKfr0uwPfoyOiRxfK1iHOurz-Mu_XnIT3j3U1mxcPSfo-_aJ7fRvCT0/file [following]\n",
      "--2021-09-10 15:07:49--  https://uc0719276ec4503aeea2bcf20e77.dl.dropboxusercontent.com/cd/0/inline2/BV5HU0iZ15NgR-_-KU8c1urCYaZ35fDLGmwz_5YPEZW7zKz19YYeirRAUKi2ynwJWZQvax85FiJoGBtTEq869GBJnE0ouIGHhRy_vtMkURlpMtkoaRRT-_VYyzs5-5ukOGxg2bCvcm_VBPOWFCBJZV4ZrsQ-IiE5SK4Gi2WFNlO4JdaLI-MHiJB7fYRm7IVdEEO4Dg4u8ZDwH0CRvSEmXImI1yi0Er5wNJ-MuDLWZDcbVQt9RiLn8uFjccHcVzhHnCvQ_wIWCq50olM25dn6yURSdrnZh5oKn8d2CDGI3oRVEA_a9fAQ8Ei4DGEuPyl9zlKK__HanW9gKKfr0uwPfoyOiRxfK1iHOurz-Mu_XnIT3j3U1mxcPSfo-_aJ7fRvCT0/file\n",
      "Reusing existing connection to uc0719276ec4503aeea2bcf20e77.dl.dropboxusercontent.com:443.\n",
      "HTTP request sent, awaiting response... 200 OK\n",
      "Length: 63252113 (60M) [application/zip]\n",
      "Saving to: ‘archive.zip’\n",
      "\n",
      "archive.zip         100%[===================>]  60.32M  70.7MB/s    in 0.9s    \n",
      "\n",
      "2021-09-10 15:07:50 (70.7 MB/s) - ‘archive.zip’ saved [63252113/63252113]\n",
      "\n"
     ]
    }
   ],
   "source": [
    "!wget https://www.dropbox.com/s/si11cws2pyho1bp/archive.zip"
   ]
  },
  {
   "cell_type": "code",
   "execution_count": 2,
   "metadata": {
    "id": "prh2xcEXCc2D"
   },
   "outputs": [],
   "source": [
    "!unzip -q \"/content/archive.zip\""
   ]
  },
  {
   "cell_type": "code",
   "execution_count": 3,
   "metadata": {
    "id": "N6LQhwbxCc4p"
   },
   "outputs": [],
   "source": [
    "## Importing libraries\n",
    "import tensorflow as tf\n",
    "import numpy as np\n",
    "import matplotlib.pyplot as plt\n",
    "from pathlib import Path\n",
    "\n",
    "tf.random.set_seed(4)"
   ]
  },
  {
   "cell_type": "code",
   "execution_count": 4,
   "metadata": {
    "id": "O3OdGNtXCc6i"
   },
   "outputs": [],
   "source": [
    "## Creating the Pathlib path objects for training and testing data\n",
    "train_data = Path(\"/content/train\")\n",
    "test_data = Path(\"/content/test\")"
   ]
  },
  {
   "cell_type": "code",
   "execution_count": 5,
   "metadata": {
    "colab": {
     "base_uri": "https://localhost:8080/"
    },
    "id": "R3H5pKmqCc9Z",
    "outputId": "2fdbf70e-0a18-488b-aaa3-54a0f6598aa5"
   },
   "outputs": [
    {
     "data": {
      "text/plain": [
       "['/content/train/happy/Training_30331096.jpg',\n",
       " '/content/train/happy/Training_43394489.jpg',\n",
       " '/content/train/happy/Training_62406522.jpg',\n",
       " '/content/train/happy/Training_87162531.jpg',\n",
       " '/content/train/happy/Training_14866954.jpg',\n",
       " '/content/train/happy/Training_80474016.jpg',\n",
       " '/content/train/happy/Training_88450851.jpg',\n",
       " '/content/train/happy/Training_79585473.jpg',\n",
       " '/content/train/happy/Training_54569321.jpg',\n",
       " '/content/train/happy/Training_14254799.jpg']"
      ]
     },
     "execution_count": 5,
     "metadata": {},
     "output_type": "execute_result"
    }
   ],
   "source": [
    "## setting paths for images\n",
    "train_image_paths = list(train_data.glob(\"*/*\"))\n",
    "train_image_paths = list(map(lambda x: str(x), train_image_paths))\n",
    "\n",
    "train_image_paths[:10]"
   ]
  },
  {
   "cell_type": "code",
   "execution_count": 6,
   "metadata": {
    "id": "-Q1FZXAWCdH_"
   },
   "outputs": [],
   "source": [
    "## let's get the labels\n",
    "def get_label(image_path):\n",
    "  return image_path.split(\"/\")[-2]\n",
    "\n",
    "train_image_labels = list(map(lambda x: get_label(x), train_image_paths))"
   ]
  },
  {
   "cell_type": "code",
   "execution_count": 7,
   "metadata": {
    "colab": {
     "base_uri": "https://localhost:8080/"
    },
    "id": "gyuOi8_fCdKl",
    "outputId": "60e690a6-ea3f-4f3b-e2cc-02f4f816fada"
   },
   "outputs": [
    {
     "data": {
      "text/plain": [
       "['happy', 'happy', 'happy', 'happy', 'happy']"
      ]
     },
     "execution_count": 7,
     "metadata": {},
     "output_type": "execute_result"
    }
   ],
   "source": [
    "train_image_labels[:5]"
   ]
  },
  {
   "cell_type": "code",
   "execution_count": 8,
   "metadata": {
    "id": "OoG93i4pCdO4"
   },
   "outputs": [],
   "source": [
    "from sklearn.preprocessing import LabelEncoder"
   ]
  },
  {
   "cell_type": "code",
   "execution_count": 9,
   "metadata": {
    "id": "LDyUrCbwCdRj"
   },
   "outputs": [],
   "source": [
    "Le = LabelEncoder()\n",
    "train_image_labels = Le.fit_transform(train_image_labels)"
   ]
  },
  {
   "cell_type": "code",
   "execution_count": 10,
   "metadata": {
    "colab": {
     "base_uri": "https://localhost:8080/"
    },
    "id": "NsjhBpTQCdUT",
    "outputId": "3a0e97c6-1472-4c94-d4ea-af9142c7262d"
   },
   "outputs": [
    {
     "data": {
      "text/plain": [
       "array([3, 3, 3, 3, 3, 3, 3, 3, 3, 3])"
      ]
     },
     "execution_count": 10,
     "metadata": {},
     "output_type": "execute_result"
    }
   ],
   "source": [
    "train_image_labels[:10]"
   ]
  },
  {
   "cell_type": "code",
   "execution_count": 11,
   "metadata": {
    "id": "sRlBS-ITCdXs"
   },
   "outputs": [],
   "source": [
    "train_image_labels = tf.keras.utils.to_categorical(train_image_labels)"
   ]
  },
  {
   "cell_type": "code",
   "execution_count": 12,
   "metadata": {
    "colab": {
     "base_uri": "https://localhost:8080/"
    },
    "id": "W2_r042RCdbz",
    "outputId": "6f777ffb-baa8-4bc7-b796-7ea120d1f6a8"
   },
   "outputs": [
    {
     "data": {
      "text/plain": [
       "array([[0., 0., 0., 1., 0., 0., 0.],\n",
       "       [0., 0., 0., 1., 0., 0., 0.],\n",
       "       [0., 0., 0., 1., 0., 0., 0.],\n",
       "       [0., 0., 0., 1., 0., 0., 0.],\n",
       "       [0., 0., 0., 1., 0., 0., 0.],\n",
       "       [0., 0., 0., 1., 0., 0., 0.],\n",
       "       [0., 0., 0., 1., 0., 0., 0.],\n",
       "       [0., 0., 0., 1., 0., 0., 0.],\n",
       "       [0., 0., 0., 1., 0., 0., 0.],\n",
       "       [0., 0., 0., 1., 0., 0., 0.]], dtype=float32)"
      ]
     },
     "execution_count": 12,
     "metadata": {},
     "output_type": "execute_result"
    }
   ],
   "source": [
    "train_image_labels[:10]"
   ]
  },
  {
   "cell_type": "code",
   "execution_count": 13,
   "metadata": {
    "id": "ZUWWW_bjCdd2"
   },
   "outputs": [],
   "source": [
    "from sklearn.model_selection import train_test_split"
   ]
  },
  {
   "cell_type": "code",
   "execution_count": 14,
   "metadata": {
    "id": "NlAU5XGnCdfs"
   },
   "outputs": [],
   "source": [
    "train_paths, val_paths, train_labels, val_labels = train_test_split(train_image_paths, train_image_labels)"
   ]
  },
  {
   "cell_type": "code",
   "execution_count": 14,
   "metadata": {
    "id": "u14IuiV3Fysh"
   },
   "outputs": [],
   "source": []
  },
  {
   "cell_type": "code",
   "execution_count": 15,
   "metadata": {
    "colab": {
     "base_uri": "https://localhost:8080/"
    },
    "id": "HAph_rUkCdhp",
    "outputId": "83ed5916-463a-49cf-e39d-5cb8bd5e8f98"
   },
   "outputs": [
    {
     "data": {
      "text/plain": [
       "['/content/train/happy/Training_79067398.jpg',\n",
       " '/content/train/angry/Training_74370648.jpg',\n",
       " '/content/train/fear/Training_62751314.jpg',\n",
       " '/content/train/angry/Training_64803836.jpg',\n",
       " '/content/train/angry/Training_38557671.jpg',\n",
       " '/content/train/neutral/Training_90665371.jpg',\n",
       " '/content/train/happy/Training_25207387.jpg',\n",
       " '/content/train/happy/Training_10265501.jpg',\n",
       " '/content/train/fear/Training_27947620.jpg',\n",
       " '/content/train/happy/Training_50277056.jpg']"
      ]
     },
     "execution_count": 15,
     "metadata": {},
     "output_type": "execute_result"
    }
   ],
   "source": [
    "train_paths[:10]"
   ]
  },
  {
   "cell_type": "code",
   "execution_count": 16,
   "metadata": {
    "colab": {
     "base_uri": "https://localhost:8080/"
    },
    "id": "TYukysyuCdjg",
    "outputId": "afa7afdb-5e44-4ac0-aefc-1545d43c17e9"
   },
   "outputs": [
    {
     "data": {
      "text/plain": [
       "array([[0., 0., 0., 1., 0., 0., 0.],\n",
       "       [1., 0., 0., 0., 0., 0., 0.],\n",
       "       [0., 0., 1., 0., 0., 0., 0.],\n",
       "       [1., 0., 0., 0., 0., 0., 0.],\n",
       "       [1., 0., 0., 0., 0., 0., 0.],\n",
       "       [0., 0., 0., 0., 1., 0., 0.],\n",
       "       [0., 0., 0., 1., 0., 0., 0.],\n",
       "       [0., 0., 0., 1., 0., 0., 0.],\n",
       "       [0., 0., 1., 0., 0., 0., 0.],\n",
       "       [0., 0., 0., 1., 0., 0., 0.]], dtype=float32)"
      ]
     },
     "execution_count": 16,
     "metadata": {},
     "output_type": "execute_result"
    }
   ],
   "source": [
    "train_labels[:10]"
   ]
  },
  {
   "cell_type": "code",
   "execution_count": 18,
   "metadata": {
    "colab": {
     "base_uri": "https://localhost:8080/"
    },
    "id": "4VnAZ7EdCdlp",
    "outputId": "4ca4b04b-dcad-4953-f6b9-2ccdb739887f"
   },
   "outputs": [
    {
     "data": {
      "text/plain": [
       "(21531, 21531)"
      ]
     },
     "execution_count": 18,
     "metadata": {},
     "output_type": "execute_result"
    }
   ],
   "source": [
    "len(train_paths), len(train_labels)"
   ]
  },
  {
   "cell_type": "code",
   "execution_count": 19,
   "metadata": {
    "colab": {
     "base_uri": "https://localhost:8080/"
    },
    "id": "kvD42ZqpCdnX",
    "outputId": "759f0ccd-a571-4cb3-e471-c55d559c47f9"
   },
   "outputs": [
    {
     "data": {
      "text/plain": [
       "(7178, 7178)"
      ]
     },
     "execution_count": 19,
     "metadata": {},
     "output_type": "execute_result"
    }
   ],
   "source": [
    "len(val_paths), len(val_labels)"
   ]
  },
  {
   "cell_type": "code",
   "execution_count": 19,
   "metadata": {
    "id": "4pQJWZfmCdp0"
   },
   "outputs": [],
   "source": []
  },
  {
   "cell_type": "code",
   "execution_count": 20,
   "metadata": {
    "colab": {
     "base_uri": "https://localhost:8080/"
    },
    "id": "05cPFgSSCdsr",
    "outputId": "a78050ec-a884-41af-cbf3-407f81c4e068"
   },
   "outputs": [
    {
     "name": "stdout",
     "output_type": "stream",
     "text": [
      "{0: 1.7892631, 1: 16.211481, 2: 1.7376943, 3: 1.0, 4: 1.4324613, 5: 1.470137, 6: 2.282433}\n"
     ]
    }
   ],
   "source": [
    "## Dealing with the imbalance situation \n",
    "\n",
    "classTotals = train_labels.sum(axis=0)\n",
    "classWeight = classTotals.max() / classTotals\n",
    "\n",
    "class_weight = {e: weight for e, weight in enumerate(classWeight)}\n",
    "print(class_weight)"
   ]
  },
  {
   "cell_type": "code",
   "execution_count": 20,
   "metadata": {
    "id": "gkjV4V4_CdvN"
   },
   "outputs": [],
   "source": []
  },
  {
   "cell_type": "markdown",
   "metadata": {
    "id": "nQlvi_jLF9S5"
   },
   "source": [
    "**Loading and Augmenting Image Data**"
   ]
  },
  {
   "cell_type": "code",
   "execution_count": 21,
   "metadata": {
    "id": "j0d17dkKCett"
   },
   "outputs": [],
   "source": [
    "## Fetching and decoding images\n",
    "def load(image, label):\n",
    "  image = tf.io.read_file(image)\n",
    "  image = tf.io.decode_jpeg(image, channels=3)\n",
    "\n",
    "  return image, label"
   ]
  },
  {
   "cell_type": "code",
   "execution_count": 22,
   "metadata": {
    "id": "Uon6ZHaXCey1"
   },
   "outputs": [],
   "source": [
    "# Define Image size and batch size\n",
    "img_size = 96\n",
    "batch_size = 32\n",
    "\n",
    "# Basic transformation \n",
    "resize = tf.keras.Sequential([\n",
    "         tf.keras.layers.experimental.preprocessing.Resizing(img_size, img_size)\n",
    "])\n",
    "\n",
    "# Data augmentation \n",
    "data_augmentation = tf.keras.Sequential([\n",
    "    tf.keras.layers.experimental.preprocessing.RandomFlip(\"horizontal\"),\n",
    "    tf.keras.layers.experimental.preprocessing.RandomRotation(0.1),\n",
    "    tf.keras.layers.experimental.preprocessing.RandomZoom(height_factor=(-0.1, -0.05))\n",
    "])"
   ]
  },
  {
   "cell_type": "code",
   "execution_count": 23,
   "metadata": {
    "id": "2revhi3KCe2c"
   },
   "outputs": [],
   "source": [
    "# Function used to create a Tensorflow data object\n",
    "autotune = tf.data.experimental.AUTOTUNE\n",
    "\n",
    "def get_dataset(paths, labels, train=True):\n",
    "  image_paths = tf.convert_to_tensor(paths)\n",
    "  labels = tf.convert_to_tensor(labels)\n",
    "\n",
    "  image_dataset = tf.data.Dataset.from_tensor_slices(image_paths)\n",
    "  labels_dataset = tf.data.Dataset.from_tensor_slices(labels)\n",
    "\n",
    "  dataset = tf.data.Dataset.zip((image_dataset, labels_dataset))\n",
    "\n",
    "  dataset = dataset.map(lambda image, label: load(image, label))\n",
    "  dataset = dataset.map(lambda image, label: (resize(image), label), num_parallel_calls=autotune)\n",
    "  dataset = dataset.shuffle(1000)\n",
    "  dataset = dataset.batch(batch_size)\n",
    "\n",
    "  if train:\n",
    "    dataset = dataset.map(lambda image, label: (data_augmentation(image), label), num_parallel_calls=autotune)\n",
    "  \n",
    "  dataset = dataset.repeat()\n",
    "  return dataset"
   ]
  },
  {
   "cell_type": "code",
   "execution_count": 24,
   "metadata": {
    "colab": {
     "base_uri": "https://localhost:8080/"
    },
    "id": "F2j73URkCe6H",
    "outputId": "1635b10f-0802-4798-9f9b-0a507e76e963"
   },
   "outputs": [
    {
     "name": "stdout",
     "output_type": "stream",
     "text": [
      "CPU times: user 519 ms, sys: 12.6 ms, total: 532 ms\n",
      "Wall time: 586 ms\n",
      "(32, 96, 96, 3)\n",
      "(32, 7)\n"
     ]
    }
   ],
   "source": [
    "# Creating train dataset object and verifying it\n",
    "%time train_dataset = get_dataset(train_paths, train_labels)\n",
    "\n",
    "image, label = next(iter(train_dataset))\n",
    "print(image.shape)\n",
    "print(label.shape)"
   ]
  },
  {
   "cell_type": "code",
   "execution_count": 25,
   "metadata": {
    "colab": {
     "base_uri": "https://localhost:8080/"
    },
    "id": "6y7-JvexGR72",
    "outputId": "df515e0a-10b9-4d01-dbd8-3d1f0c6becdd"
   },
   "outputs": [
    {
     "data": {
      "text/plain": [
       "<tf.Tensor: shape=(32, 7), dtype=float32, numpy=\n",
       "array([[0., 0., 1., 0., 0., 0., 0.],\n",
       "       [0., 0., 1., 0., 0., 0., 0.],\n",
       "       [0., 0., 0., 0., 0., 1., 0.],\n",
       "       [1., 0., 0., 0., 0., 0., 0.],\n",
       "       [0., 0., 0., 1., 0., 0., 0.],\n",
       "       [0., 0., 0., 0., 0., 0., 1.],\n",
       "       [0., 0., 1., 0., 0., 0., 0.],\n",
       "       [0., 0., 0., 0., 0., 0., 1.],\n",
       "       [0., 0., 0., 0., 0., 1., 0.],\n",
       "       [0., 0., 0., 0., 0., 0., 1.],\n",
       "       [0., 0., 0., 1., 0., 0., 0.],\n",
       "       [0., 0., 1., 0., 0., 0., 0.],\n",
       "       [1., 0., 0., 0., 0., 0., 0.],\n",
       "       [1., 0., 0., 0., 0., 0., 0.],\n",
       "       [0., 0., 0., 1., 0., 0., 0.],\n",
       "       [0., 0., 0., 0., 0., 1., 0.],\n",
       "       [0., 0., 0., 1., 0., 0., 0.],\n",
       "       [0., 0., 0., 1., 0., 0., 0.],\n",
       "       [0., 0., 1., 0., 0., 0., 0.],\n",
       "       [1., 0., 0., 0., 0., 0., 0.],\n",
       "       [0., 0., 0., 0., 0., 1., 0.],\n",
       "       [0., 0., 1., 0., 0., 0., 0.],\n",
       "       [0., 0., 1., 0., 0., 0., 0.],\n",
       "       [0., 0., 0., 0., 1., 0., 0.],\n",
       "       [0., 0., 0., 0., 0., 1., 0.],\n",
       "       [0., 0., 0., 1., 0., 0., 0.],\n",
       "       [0., 0., 0., 1., 0., 0., 0.],\n",
       "       [0., 0., 1., 0., 0., 0., 0.],\n",
       "       [1., 0., 0., 0., 0., 0., 0.],\n",
       "       [0., 0., 1., 0., 0., 0., 0.],\n",
       "       [0., 0., 0., 0., 0., 0., 1.],\n",
       "       [0., 0., 1., 0., 0., 0., 0.]], dtype=float32)>"
      ]
     },
     "execution_count": 25,
     "metadata": {},
     "output_type": "execute_result"
    }
   ],
   "source": [
    "label"
   ]
  },
  {
   "cell_type": "code",
   "execution_count": 26,
   "metadata": {
    "colab": {
     "base_uri": "https://localhost:8080/",
     "height": 302
    },
    "id": "bFGy2afCGR5D",
    "outputId": "b9708c8e-0302-4cbf-9cbf-675a721c59a2"
   },
   "outputs": [
    {
     "name": "stdout",
     "output_type": "stream",
     "text": [
      "fear\n"
     ]
    },
    {
     "data": {
      "text/plain": [
       "<matplotlib.image.AxesImage at 0x7fe6c04a9bd0>"
      ]
     },
     "execution_count": 26,
     "metadata": {},
     "output_type": "execute_result"
    },
    {
     "data": {
      "image/png": "[encoded data removed]",
      "text/plain": [
       "<Figure size 432x288 with 1 Axes>"
      ]
     },
     "metadata": {
      "needs_background": "light"
     },
     "output_type": "display_data"
    }
   ],
   "source": [
    "# View a sample training image\n",
    "print(Le.inverse_transform(np.argmax(label, axis=1))[0])\n",
    "plt.imshow((image[1].numpy()/255).reshape(96, 96, 3))"
   ]
  },
  {
   "cell_type": "code",
   "execution_count": 26,
   "metadata": {
    "id": "bhHvlABFGR2K"
   },
   "outputs": [],
   "source": []
  },
  {
   "cell_type": "code",
   "execution_count": 27,
   "metadata": {
    "colab": {
     "base_uri": "https://localhost:8080/"
    },
    "id": "0EwLoI_RGRzi",
    "outputId": "a1921920-980f-4c65-d61c-a9d637eef60f"
   },
   "outputs": [
    {
     "name": "stdout",
     "output_type": "stream",
     "text": [
      "CPU times: user 36.4 ms, sys: 435 µs, total: 36.8 ms\n",
      "Wall time: 37.1 ms\n",
      "(32, 96, 96, 3)\n",
      "(32, 7)\n"
     ]
    }
   ],
   "source": [
    "# Creating validation dataset object and verifying it\n",
    "%time val_dataset = get_dataset(val_paths, val_labels, train=False)\n",
    "\n",
    "image, label = next(iter(val_dataset))\n",
    "print(image.shape)\n",
    "print(label.shape)"
   ]
  },
  {
   "cell_type": "code",
   "execution_count": 28,
   "metadata": {
    "colab": {
     "base_uri": "https://localhost:8080/",
     "height": 302
    },
    "id": "1zbuZxUiGRxD",
    "outputId": "bde894bb-9a65-496f-f150-08087147d807"
   },
   "outputs": [
    {
     "name": "stdout",
     "output_type": "stream",
     "text": [
      "neutral\n"
     ]
    },
    {
     "data": {
      "text/plain": [
       "<matplotlib.image.AxesImage at 0x7fe6c0110c90>"
      ]
     },
     "execution_count": 28,
     "metadata": {},
     "output_type": "execute_result"
    },
    {
     "data": {
      "image/png": "[encoded data removed]",
      "text/plain": [
       "<Figure size 432x288 with 1 Axes>"
      ]
     },
     "metadata": {
      "needs_background": "light"
     },
     "output_type": "display_data"
    }
   ],
   "source": [
    "print(Le.inverse_transform(np.argmax(label, axis=1))[0])\n",
    "plt.imshow((image[1].numpy()/255).reshape(96, 96, 3))"
   ]
  },
  {
   "cell_type": "code",
   "execution_count": 28,
   "metadata": {
    "id": "wbJl1B8fGRu4"
   },
   "outputs": [],
   "source": []
  },
  {
   "cell_type": "markdown",
   "metadata": {
    "id": "ex3OjL9gH0ag"
   },
   "source": [
    "**Training the model**"
   ]
  },
  {
   "cell_type": "code",
   "execution_count": 29,
   "metadata": {
    "id": "-GRPhtLhGRrP"
   },
   "outputs": [],
   "source": [
    "from tensorflow.keras.applications import EfficientNetB2"
   ]
  },
  {
   "cell_type": "code",
   "execution_count": 30,
   "metadata": {
    "colab": {
     "base_uri": "https://localhost:8080/"
    },
    "id": "rlImVVyEGRod",
    "outputId": "c6d78fce-65d2-4509-cc95-a51d73334f1e"
   },
   "outputs": [
    {
     "name": "stdout",
     "output_type": "stream",
     "text": [
      "Downloading data from https://storage.googleapis.com/keras-applications/efficientnetb2_notop.h5\n",
      "31793152/31790344 [==============================] - 0s 0us/step\n",
      "31801344/31790344 [==============================] - 0s 0us/step\n"
     ]
    }
   ],
   "source": [
    "## Building EfficientNet model\n",
    "\n",
    "backbone = EfficientNetB2(\n",
    "    input_shape=(96, 96, 3),\n",
    "    include_top=False\n",
    ")\n",
    "\n",
    "model = tf.keras.Sequential([\n",
    "    backbone,\n",
    "    tf.keras.layers.GlobalAveragePooling2D(),\n",
    "    tf.keras.layers.Dropout(0.3),\n",
    "    tf.keras.layers.Dense(128, activation='relu'),\n",
    "    tf.keras.layers.Dense(7, activation='softmax')\n",
    "])"
   ]
  },
  {
   "cell_type": "code",
   "execution_count": 31,
   "metadata": {
    "colab": {
     "base_uri": "https://localhost:8080/"
    },
    "id": "jDCcUusVGRly",
    "outputId": "780e8ce2-b06b-4447-fde3-84380dcefe41"
   },
   "outputs": [
    {
     "name": "stdout",
     "output_type": "stream",
     "text": [
      "Model: \"sequential_2\"\n",
      "_________________________________________________________________\n",
      "Layer (type)                 Output Shape              Param #   \n",
      "=================================================================\n",
      "efficientnetb2 (Functional)  (None, 3, 3, 1408)        7768569   \n",
      "_________________________________________________________________\n",
      "global_average_pooling2d (Gl (None, 1408)              0         \n",
      "_________________________________________________________________\n",
      "dropout (Dropout)            (None, 1408)              0         \n",
      "_________________________________________________________________\n",
      "dense (Dense)                (None, 128)               180352    \n",
      "_________________________________________________________________\n",
      "dense_1 (Dense)              (None, 7)                 903       \n",
      "=================================================================\n",
      "Total params: 7,949,824\n",
      "Trainable params: 7,882,249\n",
      "Non-trainable params: 67,575\n",
      "_________________________________________________________________\n"
     ]
    }
   ],
   "source": [
    "model.summary()"
   ]
  },
  {
   "cell_type": "code",
   "execution_count": 32,
   "metadata": {
    "id": "WurRYlpuGRjW"
   },
   "outputs": [],
   "source": [
    "## Compiling the model \n",
    "model.compile(\n",
    "    optimizer = tf.keras.optimizers.Adam(learning_rate=0.001, beta_1=0.9, beta_2=0.999, epsilon=1e-07),\n",
    "    loss = 'categorical_crossentropy',\n",
    "    metrics = [\"accuracy\", tf.keras.metrics.Precision(name =\"precision\"), tf.keras.metrics.Recall(name=\"recall\")]\n",
    ")"
   ]
  },
  {
   "cell_type": "markdown",
   "metadata": {
    "id": "QCb0nrE2I0F7"
   },
   "source": [
    "Tuning the CNN layers to learn the pattern in current data"
   ]
  },
  {
   "cell_type": "code",
   "execution_count": 33,
   "metadata": {
    "colab": {
     "base_uri": "https://localhost:8080/"
    },
    "id": "5rJxIWMUGRgz",
    "outputId": "af18a960-0dbf-4a12-ef1b-c29c347d9153"
   },
   "outputs": [
    {
     "name": "stdout",
     "output_type": "stream",
     "text": [
      "Epoch 1/12\n",
      "672/672 [==============================] - 214s 250ms/step - loss: 2.7845 - accuracy: 0.4065 - precision: 0.6630 - recall: 0.1911 - val_loss: 1.3850 - val_accuracy: 0.4703 - val_precision: 0.6497 - val_recall: 0.3188\n",
      "Epoch 2/12\n",
      "672/672 [==============================] - 167s 246ms/step - loss: 2.3526 - accuracy: 0.4925 - precision: 0.6911 - recall: 0.2948 - val_loss: 1.3747 - val_accuracy: 0.4801 - val_precision: 0.6030 - val_recall: 0.3100\n",
      "Epoch 3/12\n",
      "672/672 [==============================] - 166s 247ms/step - loss: 2.2211 - accuracy: 0.5163 - precision: 0.6964 - recall: 0.3213 - val_loss: 1.1630 - val_accuracy: 0.5526 - val_precision: 0.7001 - val_recall: 0.3712\n",
      "Epoch 4/12\n",
      "672/672 [==============================] - 165s 246ms/step - loss: 2.1312 - accuracy: 0.5390 - precision: 0.7030 - recall: 0.3528 - val_loss: 1.2204 - val_accuracy: 0.5554 - val_precision: 0.7173 - val_recall: 0.3613\n",
      "Epoch 5/12\n",
      "672/672 [==============================] - 166s 246ms/step - loss: 2.0245 - accuracy: 0.5564 - precision: 0.7122 - recall: 0.3763 - val_loss: 1.1389 - val_accuracy: 0.5767 - val_precision: 0.7666 - val_recall: 0.3597\n",
      "Epoch 6/12\n",
      "672/672 [==============================] - 165s 246ms/step - loss: 1.9439 - accuracy: 0.5679 - precision: 0.7279 - recall: 0.3969 - val_loss: 1.1021 - val_accuracy: 0.5838 - val_precision: 0.7147 - val_recall: 0.4287\n",
      "Epoch 7/12\n",
      "672/672 [==============================] - 166s 247ms/step - loss: 1.9456 - accuracy: 0.5750 - precision: 0.7259 - recall: 0.4039 - val_loss: 1.1443 - val_accuracy: 0.5652 - val_precision: 0.7066 - val_recall: 0.3984\n",
      "Epoch 8/12\n",
      "672/672 [==============================] - 164s 245ms/step - loss: 1.9163 - accuracy: 0.5795 - precision: 0.7254 - recall: 0.4091 - val_loss: 1.1735 - val_accuracy: 0.5513 - val_precision: 0.6858 - val_recall: 0.4025\n",
      "Epoch 9/12\n",
      "672/672 [==============================] - 165s 246ms/step - loss: 1.8213 - accuracy: 0.5955 - precision: 0.7348 - recall: 0.4385 - val_loss: 1.0398 - val_accuracy: 0.6031 - val_precision: 0.7441 - val_recall: 0.4623\n",
      "Epoch 10/12\n",
      "672/672 [==============================] - 165s 246ms/step - loss: 1.7562 - accuracy: 0.6103 - precision: 0.7386 - recall: 0.4591 - val_loss: 1.0871 - val_accuracy: 0.5907 - val_precision: 0.6994 - val_recall: 0.4665\n",
      "Epoch 11/12\n",
      "672/672 [==============================] - 166s 246ms/step - loss: 1.7510 - accuracy: 0.6088 - precision: 0.7360 - recall: 0.4605 - val_loss: 1.1006 - val_accuracy: 0.5890 - val_precision: 0.7260 - val_recall: 0.4282\n",
      "Epoch 12/12\n",
      "672/672 [==============================] - 164s 245ms/step - loss: 1.7069 - accuracy: 0.6151 - precision: 0.7434 - recall: 0.4694 - val_loss: 1.1448 - val_accuracy: 0.5805 - val_precision: 0.6819 - val_recall: 0.4612\n"
     ]
    }
   ],
   "source": [
    "# Train the model\n",
    "history = model.fit(\n",
    "    train_dataset,\n",
    "    steps_per_epoch=len(train_paths)//batch_size,\n",
    "    epochs=12,\n",
    "    validation_data=val_dataset,\n",
    "    validation_steps = len(val_paths)//batch_size,\n",
    "    class_weight = class_weight\n",
    ")"
   ]
  },
  {
   "cell_type": "code",
   "execution_count": 33,
   "metadata": {
    "id": "OYYvk3l_GReB"
   },
   "outputs": [],
   "source": []
  },
  {
   "cell_type": "markdown",
   "metadata": {
    "id": "huZ2FNz7I9ap"
   },
   "source": [
    "Freezing all the layers of our model and only train the last layers where we do the classification"
   ]
  },
  {
   "cell_type": "code",
   "execution_count": 34,
   "metadata": {
    "id": "j5HO6ejIGRbW"
   },
   "outputs": [],
   "source": [
    "## Turn off the backbone\n",
    "model.layers[0].trainable = False"
   ]
  },
  {
   "cell_type": "code",
   "execution_count": 35,
   "metadata": {
    "id": "aehvj2OcGRYf"
   },
   "outputs": [],
   "source": [
    "## Defining callbacks\n",
    "checkpoint = tf.keras.callbacks.ModelCheckpoint(\"best_weights.h5\", verbose=1, save_best_only=True, save_weights_only=True)\n",
    "early_stop = tf.keras.callbacks.EarlyStopping(patience=3)"
   ]
  },
  {
   "cell_type": "code",
   "execution_count": 36,
   "metadata": {
    "colab": {
     "base_uri": "https://localhost:8080/"
    },
    "id": "e_hPazVaK6i8",
    "outputId": "49d70540-a5ac-4893-9441-c4e53dc979ce"
   },
   "outputs": [
    {
     "name": "stdout",
     "output_type": "stream",
     "text": [
      "Model: \"sequential_2\"\n",
      "_________________________________________________________________\n",
      "Layer (type)                 Output Shape              Param #   \n",
      "=================================================================\n",
      "efficientnetb2 (Functional)  (None, 3, 3, 1408)        7768569   \n",
      "_________________________________________________________________\n",
      "global_average_pooling2d (Gl (None, 1408)              0         \n",
      "_________________________________________________________________\n",
      "dropout (Dropout)            (None, 1408)              0         \n",
      "_________________________________________________________________\n",
      "dense (Dense)                (None, 128)               180352    \n",
      "_________________________________________________________________\n",
      "dense_1 (Dense)              (None, 7)                 903       \n",
      "=================================================================\n",
      "Total params: 7,949,824\n",
      "Trainable params: 181,255\n",
      "Non-trainable params: 7,768,569\n",
      "_________________________________________________________________\n"
     ]
    }
   ],
   "source": [
    "model.summary()"
   ]
  },
  {
   "cell_type": "code",
   "execution_count": 37,
   "metadata": {
    "colab": {
     "base_uri": "https://localhost:8080/"
    },
    "id": "MV6ZjNOFGRVw",
    "outputId": "3794219b-30d3-445f-b7fd-50a6e905beee"
   },
   "outputs": [
    {
     "name": "stdout",
     "output_type": "stream",
     "text": [
      "Epoch 1/8\n",
      "672/672 [==============================] - 165s 245ms/step - loss: 1.6487 - accuracy: 0.6274 - precision: 0.7447 - recall: 0.4914 - val_loss: 1.0868 - val_accuracy: 0.6018 - val_precision: 0.6953 - val_recall: 0.4987\n",
      "\n",
      "Epoch 00001: val_loss improved from inf to 1.08684, saving model to best_weights.h5\n",
      "Epoch 2/8\n",
      "672/672 [==============================] - 165s 245ms/step - loss: 1.5888 - accuracy: 0.6365 - precision: 0.7522 - recall: 0.5083 - val_loss: 1.1586 - val_accuracy: 0.5908 - val_precision: 0.6715 - val_recall: 0.4914\n",
      "\n",
      "Epoch 00002: val_loss did not improve from 1.08684\n",
      "Epoch 3/8\n",
      "672/672 [==============================] - 164s 245ms/step - loss: 1.5732 - accuracy: 0.6453 - precision: 0.7607 - recall: 0.5171 - val_loss: 1.1186 - val_accuracy: 0.5868 - val_precision: 0.6873 - val_recall: 0.4701\n",
      "\n",
      "Epoch 00003: val_loss did not improve from 1.08684\n",
      "Epoch 4/8\n",
      "672/672 [==============================] - 166s 247ms/step - loss: 1.5577 - accuracy: 0.6422 - precision: 0.7571 - recall: 0.5135 - val_loss: 1.0396 - val_accuracy: 0.6137 - val_precision: 0.7029 - val_recall: 0.5172\n",
      "\n",
      "Epoch 00004: val_loss improved from 1.08684 to 1.03962, saving model to best_weights.h5\n",
      "Epoch 5/8\n",
      "672/672 [==============================] - 166s 247ms/step - loss: 1.4958 - accuracy: 0.6593 - precision: 0.7602 - recall: 0.5370 - val_loss: 1.0027 - val_accuracy: 0.6278 - val_precision: 0.7151 - val_recall: 0.5413\n",
      "\n",
      "Epoch 00005: val_loss improved from 1.03962 to 1.00266, saving model to best_weights.h5\n",
      "Epoch 6/8\n",
      "672/672 [==============================] - 166s 247ms/step - loss: 1.4982 - accuracy: 0.6577 - precision: 0.7564 - recall: 0.5413 - val_loss: 1.0927 - val_accuracy: 0.6109 - val_precision: 0.6770 - val_recall: 0.5317\n",
      "\n",
      "Epoch 00006: val_loss did not improve from 1.00266\n",
      "Epoch 7/8\n",
      "672/672 [==============================] - 165s 245ms/step - loss: 1.4166 - accuracy: 0.6718 - precision: 0.7697 - recall: 0.5614 - val_loss: 0.9884 - val_accuracy: 0.6336 - val_precision: 0.7269 - val_recall: 0.5488\n",
      "\n",
      "Epoch 00007: val_loss improved from 1.00266 to 0.98838, saving model to best_weights.h5\n",
      "Epoch 8/8\n",
      "672/672 [==============================] - 166s 246ms/step - loss: 1.4652 - accuracy: 0.6661 - precision: 0.7660 - recall: 0.5488 - val_loss: 1.0155 - val_accuracy: 0.6348 - val_precision: 0.7171 - val_recall: 0.5410\n",
      "\n",
      "Epoch 00008: val_loss did not improve from 0.98838\n"
     ]
    }
   ],
   "source": [
    "# Training the model\n",
    "history = model.fit(\n",
    "    train_dataset,\n",
    "    steps_per_epoch = len(train_paths)//batch_size,\n",
    "    epochs = 8,\n",
    "    callbacks = [checkpoint, early_stop],\n",
    "    validation_data = val_dataset,\n",
    "    validation_steps = len(val_paths)//batch_size,\n",
    "    class_weight = class_weight\n",
    ")"
   ]
  },
  {
   "cell_type": "code",
   "execution_count": null,
   "metadata": {
    "id": "A5vA5GvbGRTb"
   },
   "outputs": [],
   "source": []
  },
  {
   "cell_type": "markdown",
   "metadata": {
    "id": "qtd_YJJQJTtQ"
   },
   "source": [
    "**Testing the model**"
   ]
  },
  {
   "cell_type": "code",
   "execution_count": null,
   "metadata": {
    "id": "7xfvScGuGRQQ"
   },
   "outputs": [],
   "source": [
    "backbone = EfficientNetB2(\n",
    "    input_shape=(96, 96, 3),\n",
    "    include_top=False\n",
    ")\n",
    "\n",
    "model = tf.keras.Sequential([\n",
    "    backbone,\n",
    "    tf.keras.layers.GlobalAveragePooling2D(),\n",
    "    tf.keras.layers.Dropout(0.3),\n",
    "    tf.keras.layers.Dense(128, activation='relu'),\n",
    "    tf.keras.layers.Dense(7, activation='softmax')\n",
    "])\n",
    "\n",
    "\n",
    "model.compile(\n",
    "    optimizer=tf.keras.optimizers.Adam(learning_rate=0.001, beta_1=0.9, beta_2=0.999, epsilon=1e-07),\n",
    "    loss = 'categorical_crossentropy',\n",
    "    metrics=['accuracy' , tf.keras.metrics.Precision(name='precision'),tf.keras.metrics.Recall(name='recall')]\n",
    ")"
   ]
  },
  {
   "cell_type": "code",
   "execution_count": null,
   "metadata": {
    "id": "3ONNB2qJGROF"
   },
   "outputs": [],
   "source": [
    "model.load_weights(\"best_weights.h5\")"
   ]
  },
  {
   "cell_type": "code",
   "execution_count": null,
   "metadata": {
    "id": "URUkGzB1GRKS"
   },
   "outputs": [],
   "source": [
    "## setting paths for images\n",
    "test_image_paths = list(test_data.glob(\"*/*\"))\n",
    "test_image_paths = list(map(lambda x: str(x), train_image_paths))\n",
    "test_image_labels = list(map(lambda x: get_label(x), test_image_paths))\n",
    "\n",
    "test_image_labels = Le.transform(test_image_labels)\n",
    "test_image_labels = tf.keras.utils.to_categorical(test_image_labels)\n",
    "\n",
    "test_image_paths = tf.convert_to_tensor(test_image_paths)\n",
    "test_image_labels = tf.convert_to_tensor(test_image_labels)\n",
    "\n",
    "def decode_image(image, label):\n",
    "  image = tf.io.read_file(image)\n",
    "  image = tf.io.decode_jpeg(image, channels=3)\n",
    "  image = tf.image.resize(image, [96, 96], method='bilinear')\n",
    "\n",
    "  return image, label\n",
    "\n",
    "test_dataset = (\n",
    "    tf.data.Dataset.from_tensor_slices((test_image_paths, test_image_labels)).map(decode_image).batch(batch_size)\n",
    ")"
   ]
  },
  {
   "cell_type": "code",
   "execution_count": null,
   "metadata": {
    "id": "ldQJCg35GRHK"
   },
   "outputs": [],
   "source": [
    "## Verify test dataset Object\n",
    "image, label = next(iter(test_dataset))\n",
    "print(image.shape)\n",
    "print(label.shape)"
   ]
  },
  {
   "cell_type": "code",
   "execution_count": 45,
   "metadata": {
    "colab": {
     "base_uri": "https://localhost:8080/",
     "height": 302
    },
    "id": "sDLKsQoiGREF",
    "outputId": "99710ead-ec8f-41da-8c9b-4d7ae3632f15"
   },
   "outputs": [
    {
     "name": "stdout",
     "output_type": "stream",
     "text": [
      "happy\n"
     ]
    },
    {
     "data": {
      "text/plain": [
       "<matplotlib.image.AxesImage at 0x7fe67d739e90>"
      ]
     },
     "execution_count": 45,
     "metadata": {},
     "output_type": "execute_result"
    },
    {
     "data": {
      "image/png": "[encoded data removed]",
      "text/plain": [
       "<Figure size 432x288 with 1 Axes>"
      ]
     },
     "metadata": {
      "needs_background": "light"
     },
     "output_type": "display_data"
    }
   ],
   "source": [
    "# A view of the validation Images\n",
    "print(Le.inverse_transform(np.argmax(label, axis=1))[0])\n",
    "plt.imshow((image[1].numpy()/255).reshape(96, 96, 3))"
   ]
  },
  {
   "cell_type": "code",
   "execution_count": 46,
   "metadata": {
    "colab": {
     "base_uri": "https://localhost:8080/"
    },
    "id": "lYx_KJ7MCe8_",
    "outputId": "997103d1-c294-4ed0-8002-cc7f95fdfa21"
   },
   "outputs": [
    {
     "name": "stdout",
     "output_type": "stream",
     "text": [
      "898/898 [==============================] - 56s 63ms/step - loss: 0.8360 - accuracy: 0.6892 - precision: 0.7770 - recall: 0.5928\n",
      "Testing accuracy : 0.6891915202140808\n",
      "Testing loss :  0.8359957337379456\n",
      "Testing precision :  0.7770270109176636\n",
      "Testing recall : 0.5928454399108887\n"
     ]
    }
   ],
   "source": [
    "# Evaluating the loaded model\n",
    "loss, acc, prec, rec = model.evaluate(test_dataset)\n",
    "\n",
    "print(\"Testing accuracy :\", acc)\n",
    "print(\"Testing loss : \", loss)\n",
    "print(\"Testing precision : \", prec)\n",
    "print(\"Testing recall :\", rec)"
   ]
  },
  {
   "cell_type": "code",
   "execution_count": 46,
   "metadata": {
    "id": "BWWOBjLLCfA7"
   },
   "outputs": [],
   "source": []
  },
  {
   "cell_type": "code",
   "execution_count": 47,
   "metadata": {
    "colab": {
     "base_uri": "https://localhost:8080/"
    },
    "id": "XEHaHVDcCfDS",
    "outputId": "7fa03764-cf14-40ef-858a-86dac3c33ace"
   },
   "outputs": [
    {
     "name": "stderr",
     "output_type": "stream",
     "text": [
      "/usr/local/lib/python3.7/dist-packages/keras/utils/generic_utils.py:497: CustomMaskWarning: Custom mask layers require a config and must override get_config. When loading, the custom mask layer must be passed to the custom_objects argument.\n",
      "  category=CustomMaskWarning)\n"
     ]
    }
   ],
   "source": [
    "# Save model \n",
    "model.save(\"FacialExpressionModel.h5\")"
   ]
  },
  {
   "cell_type": "code",
   "execution_count": 50,
   "metadata": {
    "id": "fXrzm05aeeme"
   },
   "outputs": [],
   "source": [
    "import pickle"
   ]
  },
  {
   "cell_type": "code",
   "execution_count": 48,
   "metadata": {
    "id": "NizBKXqrMESB"
   },
   "outputs": [],
   "source": [
    "def save_object(obj, name:str):\n",
    "\n",
    "    #pickle_out = open(f\"{name}.pkl\", \"wb\")\n",
    "    #pickle.dump(obj, pickle_out)\n",
    "    #pickle_out.close()\n",
    "\n",
    "    with open(f\"{name}.pkl\", \"wb\") as f:\n",
    "        pickle.dump(obj, f)\n",
    "\n",
    "def load_object(name:str):\n",
    "    with open(f\"{name}.pkl\", \"rb\") as f:\n",
    "        obj = pickle.load(f)\n",
    "    return obj"
   ]
  },
  {
   "cell_type": "code",
   "execution_count": 51,
   "metadata": {
    "id": "b3UI8P8gMEMf"
   },
   "outputs": [],
   "source": [
    "save_object(Le, \"LabelEncoder\")"
   ]
  },
  {
   "cell_type": "code",
   "execution_count": null,
   "metadata": {
    "id": "LZg4j10rfCln"
   },
   "outputs": [],
   "source": []
  }
 ],
 "metadata": {
  "accelerator": "GPU",
  "colab": {
   "collapsed_sections": [],
   "name": "Facial_Expression_Recognition.ipynb",
   "provenance": []
  },
  "kernelspec": {
   "display_name": "Python 3",
   "language": "python",
   "name": "python3"
  },
  "language_info": {
   "codemirror_mode": {
    "name": "ipython",
    "version": 3
   },
   "file_extension": ".py",
   "mimetype": "text/x-python",
   "name": "python",
   "nbconvert_exporter": "python",
   "pygments_lexer": "ipython3",
   "version": "3.6.10"
  }
 },
 "nbformat": 4,
 "nbformat_minor": 1
}
